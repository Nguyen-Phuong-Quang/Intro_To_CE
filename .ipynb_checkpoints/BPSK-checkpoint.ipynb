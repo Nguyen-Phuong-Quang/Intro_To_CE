{
 "cells": [
  {
   "cell_type": "code",
   "execution_count": 1,
   "id": "7a804322",
   "metadata": {},
   "outputs": [],
   "source": [
    "import matplotlib.pyplot as plt\n",
    "import numpy as np\n",
    "from math import pi"
   ]
  },
  {
   "cell_type": "code",
   "execution_count": 2,
   "id": "6519d535",
   "metadata": {},
   "outputs": [
    {
     "data": {
      "text/html": [
       "<h1>1. BFSK Modulation and Demodulation</h1>\n"
      ],
      "text/plain": [
       "<IPython.core.display.HTML object>"
      ]
     },
     "metadata": {},
     "output_type": "display_data"
    }
   ],
   "source": [
    "%%HTML\n",
    "<h1>1. BFSK Modulation and Demodulation</h1>"
   ]
  },
  {
   "cell_type": "code",
   "execution_count": 3,
   "id": "21cc853d",
   "metadata": {},
   "outputs": [
    {
     "data": {
      "text/html": [
       "<h3>Digital/Binary input information</h3>\n"
      ],
      "text/plain": [
       "<IPython.core.display.HTML object>"
      ]
     },
     "metadata": {},
     "output_type": "display_data"
    }
   ],
   "source": [
    "%%HTML\n",
    "<h3>Digital/Binary input information</h3>"
   ]
  },
  {
   "cell_type": "code",
   "execution_count": 4,
   "id": "ffb5ffb0",
   "metadata": {},
   "outputs": [
    {
     "name": "stdout",
     "output_type": "stream",
     "text": [
      "Binary Input Information at Transmitter: \n",
      "[1 0 1 1 1 1 0 1 1 1 0 1 1 1 0 0 1 0 1 0 1 1 1 1 0 1 0 0 1 1 1 0 0 0 0 1 1\n",
      " 0 0 1 0 1 0 1 0 0 1 0 0 1 1 0 1 1 1 1 0 1 1 0 1 0 1 1 1 1 1 0 1 0 1 0 1 1\n",
      " 1 0 0 1 1 1 0 0 1 0 1 1 1 1 0 1 1 1 1 0 1 0 0 1 0 1]\n"
     ]
    }
   ],
   "source": [
    "x = np.random.randint(2, size=100)\n",
    "N = len(x);\n",
    "Tb = 0.000001;  # Data rate = 1MHz i.e., bit period (second)\n",
    "print('Binary Input Information at Transmitter: ');\n",
    "print(x);"
   ]
  },
  {
   "cell_type": "code",
   "execution_count": 5,
   "id": "28db55ac",
   "metadata": {},
   "outputs": [
    {
     "data": {
      "text/html": [
       "<h3>Represent input information as digital signal</h3>\n"
      ],
      "text/plain": [
       "<IPython.core.display.HTML object>"
      ]
     },
     "metadata": {},
     "output_type": "display_data"
    }
   ],
   "source": [
    "%%HTML\n",
    "<h3>Represent input information as digital signal</h3>"
   ]
  },
  {
   "cell_type": "code",
   "execution_count": 6,
   "id": "47fcb413",
   "metadata": {},
   "outputs": [],
   "source": [
    "nb = 99;   # Digital signal per bit\n",
    "digit = [];\n",
    "for i in range(0, N):\n",
    "    if x[i] == 1:\n",
    "        sig = [1 for g in range(nb)]\n",
    "    elif x[i] == 0:\n",
    "        sig = [0 for g in range(nb)]\n",
    "    digit.extend(sig)"
   ]
  },
  {
   "cell_type": "code",
   "execution_count": 7,
   "id": "b195f8e6",
   "metadata": {},
   "outputs": [
    {
     "data": {
      "text/plain": [
       "Text(0.5, 1.0, 'Transmitting information as digital signal')"
      ]
     },
     "execution_count": 7,
     "metadata": {},
     "output_type": "execute_result"
    },
    {
     "data": {
      "image/png": "[encoded data removed]",
      "text/plain": [
       "<Figure size 640x480 with 1 Axes>"
      ]
     },
     "metadata": {},
     "output_type": "display_data"
    }
   ],
   "source": [
    "t1 = np.arange(0, nb*N*(Tb/nb), Tb/nb)   # Time period\n",
    "plt.subplot(3, 1, 1)\n",
    "plt.plot(t1, digit, linewidth=2)\n",
    "plt.grid()\n",
    "plt.axis([0, Tb*N, -0.5, 1.5])\n",
    "plt.ylabel('Amplitude(volt)')\n",
    "plt.xlabel('Time(sec)')\n",
    "plt.title('Transmitting information as digital signal')"
   ]
  },
  {
   "cell_type": "code",
   "execution_count": 8,
   "id": "a59c8b44",
   "metadata": {},
   "outputs": [
    {
     "data": {
      "text/html": [
       "<h3>BFSK Modulation</h3>\n"
      ],
      "text/plain": [
       "<IPython.core.display.HTML object>"
      ]
     },
     "metadata": {},
     "output_type": "display_data"
    }
   ],
   "source": [
    "%%HTML\n",
    "<h3>BFSK Modulation</h3>"
   ]
  },
  {
   "cell_type": "code",
   "execution_count": 9,
   "id": "7c65e39d",
   "metadata": {},
   "outputs": [],
   "source": [
    "Ac = 10;     \n",
    "br = 1/Tb;    # Bit rate\n",
    "Fc = br*10;   # Carrier frequency\n",
    "Pc1 = 0;      # Carrier phase for binary input '1'\n",
    "Pc2 = pi;     # Carrier phase for binary input '0'\n",
    "t2 = np.arange(Tb/nb, Tb + Tb/nb, Tb/nb);   # Signal time"
   ]
  },
  {
   "cell_type": "code",
   "execution_count": 10,
   "id": "cc5ddd63",
   "metadata": {},
   "outputs": [],
   "source": [
    "mod = []\n",
    "cr1 = []\n",
    "cr2 = []\n",
    "for i in range(0, N):\n",
    "    cr1.extend(Ac * np.cos(2*pi*Fc*t2 + Pc1))\n",
    "    cr2.extend(Ac * np.cos(2*pi*Fc*t2 + Pc2))\n",
    "    if x[i] == 1:\n",
    "        # Modulation signal with carrier signal 1\n",
    "        y = Ac * np.cos(2*pi*Fc*t2 + Pc1)\n",
    "    else:\n",
    "        # Modulation signal with carrier signal 2\n",
    "        y = Ac * np.cos(2*pi*Fc*t2 + Pc2)\n",
    "    mod.extend(y)"
   ]
  },
  {
   "cell_type": "code",
   "execution_count": 11,
   "id": "2aab6e96",
   "metadata": {},
   "outputs": [
    {
     "data": {
      "image/png": "[encoded data removed]",
      "text/plain": [
       "<Figure size 640x480 with 1 Axes>"
      ]
     },
     "metadata": {},
     "output_type": "display_data"
    }
   ],
   "source": [
    "t3 = np.arange(0, Tb * N, Tb/nb);   # Time period\n",
    "plt.subplot(3, 1, 1)\n",
    "plt.plot(t3, cr1)\n",
    "plt.axis([0, Tb*N, -10.5, 10.5])\n",
    "plt.xlabel('Time(Sec)')\n",
    "plt.ylabel('Amplitude(Volts)')\n",
    "plt.title('Carrier signal 1')\n",
    "plt.tight_layout()\n",
    "\n",
    "plt.subplot(3, 1, 2)\n",
    "plt.plot(t3, cr2)\n",
    "plt.axis([0, Tb*N, -10.5, 10.5])\n",
    "plt.xlabel('Time(Sec)')\n",
    "plt.ylabel('Amplitude(Volts)')\n",
    "plt.title('Carrier signal 2')\n",
    "plt.tight_layout()\n",
    "\n",
    "plt.subplot(3, 1, 3)\n",
    "plt.plot(t3, mod)\n",
    "plt.axis([0, Tb*N, -10.5, 10.5])\n",
    "plt.xlabel('Time(Sec)')\n",
    "plt.ylabel('Amplitude(Volts)')\n",
    "plt.title('ASK Modulated Signal')\n",
    "plt.tight_layout()\n",
    "plt.show()"
   ]
  },
  {
   "cell_type": "code",
   "execution_count": 12,
   "id": "f53aa9a5",
   "metadata": {},
   "outputs": [
    {
     "data": {
      "text/html": [
       "<h3>Transmitted signal x</h3>\n"
      ],
      "text/plain": [
       "<IPython.core.display.HTML object>"
      ]
     },
     "metadata": {},
     "output_type": "display_data"
    }
   ],
   "source": [
    "%%HTML\n",
    "<h3>Transmitted signal x</h3>"
   ]
  },
  {
   "cell_type": "code",
   "execution_count": 13,
   "id": "5bef2367",
   "metadata": {},
   "outputs": [],
   "source": [
    "Ts = mod;"
   ]
  },
  {
   "cell_type": "code",
   "execution_count": 14,
   "id": "d3652dcf",
   "metadata": {},
   "outputs": [
    {
     "data": {
      "text/html": [
       "<h3>Channel model h and w</h3>\n"
      ],
      "text/plain": [
       "<IPython.core.display.HTML object>"
      ]
     },
     "metadata": {},
     "output_type": "display_data"
    }
   ],
   "source": [
    "%%HTML\n",
    "<h3>Channel model h and w</h3>"
   ]
  },
  {
   "cell_type": "code",
   "execution_count": 15,
   "id": "c5d16130",
   "metadata": {},
   "outputs": [],
   "source": [
    "h = 1;   # Signal fading\n",
    "# w = 0;   # Noise\n",
    "w = np.random.normal(loc=0, scale=1, size=(N * nb));"
   ]
  },
  {
   "cell_type": "code",
   "execution_count": 16,
   "id": "9fe92ed2",
   "metadata": {},
   "outputs": [
    {
     "data": {
      "text/html": [
       "<h3>Received signal y</h3>\n"
      ],
      "text/plain": [
       "<IPython.core.display.HTML object>"
      ]
     },
     "metadata": {},
     "output_type": "display_data"
    }
   ],
   "source": [
    "%%HTML\n",
    "<h3>Received signal y</h3>"
   ]
  },
  {
   "cell_type": "code",
   "execution_count": 17,
   "id": "2c6ccb3b",
   "metadata": {},
   "outputs": [],
   "source": [
    "y = np.add(np.multiply(h, Ts), w)  # Convolution"
   ]
  },
  {
   "cell_type": "code",
   "execution_count": 18,
   "id": "bef7e5ae",
   "metadata": {},
   "outputs": [
    {
     "data": {
      "text/html": [
       "<h3>BFSK Demodulation</h3>\n"
      ],
      "text/plain": [
       "<IPython.core.display.HTML object>"
      ]
     },
     "metadata": {},
     "output_type": "display_data"
    }
   ],
   "source": [
    "%%HTML\n",
    "<h3>BFSK Demodulation</h3>"
   ]
  },
  {
   "cell_type": "code",
   "execution_count": 19,
   "id": "f716762b",
   "metadata": {},
   "outputs": [],
   "source": [
    "s=len(t2)\n",
    "demod=[]"
   ]
  },
  {
   "cell_type": "code",
   "execution_count": 20,
   "id": "bc7c70d3",
   "metadata": {},
   "outputs": [
    {
     "name": "stdout",
     "output_type": "stream",
     "text": [
      "Demodulated Binary Information at Receiver: \n",
      "[1, 0, 1, 1, 1, 1, 0, 1, 1, 1, 0, 1, 1, 1, 0, 0, 1, 0, 1, 0, 1, 1, 1, 1, 0, 1, 0, 0, 1, 1, 1, 0, 0, 0, 0, 1, 1, 0, 0, 1, 0, 1, 0, 1, 0, 0, 1, 0, 0, 1, 1, 0, 1, 1, 1, 1, 0, 1, 1, 0, 1, 0, 1, 1, 1, 1, 0, 0, 1, 0, 1, 0, 1, 1, 1, 0, 0, 1, 1, 1, 0, 0, 1, 0, 1, 1, 1, 1, 0, 1, 1, 1, 1, 0, 1, 0, 0, 1, 0, 1]\n"
     ]
    }
   ],
   "source": [
    "for n in range(0, len(y), s):\n",
    "    t4=np.arange(Tb/nb, Tb + Tb/nb, Tb/nb)  # Time period\n",
    "    c=np.cos(2*pi*Fc*t4)                    # Carrier signal\n",
    "    mm=np.multiply(c, y[n:n+s])             # Convolution\n",
    "    t5=np.arange(Tb/nb, Tb + Tb/nb, Tb/nb)\n",
    "    z=np.trapz(t5, mm)                      # Intregation\n",
    "    rz=round((2*z/Tb))\n",
    "    if rz > Ac/2:                               # Logical condition\n",
    "        a = 1\n",
    "    else:\n",
    "        a = 0\n",
    "    demod.append(a)\n",
    "\n",
    "print('Demodulated Binary Information at Receiver: ')\n",
    "print(demod)"
   ]
  },
  {
   "cell_type": "code",
   "execution_count": 21,
   "id": "0ae7c3b1",
   "metadata": {},
   "outputs": [
    {
     "data": {
      "text/html": [
       "<h3>Represent demodulated information as digital signal</h3>\n"
      ],
      "text/plain": [
       "<IPython.core.display.HTML object>"
      ]
     },
     "metadata": {},
     "output_type": "display_data"
    }
   ],
   "source": [
    "%%HTML\n",
    "<h3>Represent demodulated information as digital signal</h3>"
   ]
  },
  {
   "cell_type": "code",
   "execution_count": 22,
   "id": "e8eef160",
   "metadata": {},
   "outputs": [],
   "source": [
    "bit=[]\n",
    "for n in range(0, len(demod)):\n",
    "    if demod[n] == 1:\n",
    "        se=[1 for i in range(nb)]\n",
    "    elif demod[n] == 0:\n",
    "        se=[0 for i in range(nb)]\n",
    "    bit.extend(se)"
   ]
  },
  {
   "cell_type": "code",
   "execution_count": 23,
   "id": "4ecaa13e",
   "metadata": {},
   "outputs": [
    {
     "data": {
      "image/png": "[encoded data removed]",
      "text/plain": [
       "<Figure size 640x480 with 1 Axes>"
      ]
     },
     "metadata": {},
     "output_type": "display_data"
    }
   ],
   "source": [
    "t4=np.arange(0, nb*len(demod)*(Tb/nb), Tb/nb)    # Time period\n",
    "plt.subplot(3, 1, 1)\n",
    "plt.plot(t4, bit, linewidth=2);\n",
    "plt.grid()\n",
    "plt.axis([0, Tb*len(demod), -0.5, 1.5]);\n",
    "plt.ylabel('Amplitude(volt)');\n",
    "plt.xlabel('Time(sec)');\n",
    "plt.title('Recived information as digital signal after binary ASK demodulation');\n",
    "plt.tight_layout()\n",
    "plt.show()"
   ]
  },
  {
   "cell_type": "code",
   "execution_count": 24,
   "id": "b27cc466",
   "metadata": {},
   "outputs": [
    {
     "name": "stdout",
     "output_type": "stream",
     "text": [
      "Bit error at:\n",
      "67\n",
      "Bit error probability 1.0 %\n"
     ]
    }
   ],
   "source": [
    "count_error = 0\n",
    "print(\"Bit error at:\")\n",
    "for i in range(0, N):\n",
    "    if x[i] != demod[i]:\n",
    "        print(i + 1)\n",
    "        count_error += 1\n",
    "\n",
    "print(f'Bit error probability: {count_error/len(x)*100}%')\n"
   ]
  }
 ],
 "metadata": {
  "kernelspec": {
   "display_name": "Python 3 (ipykernel)",
   "language": "python",
   "name": "python3"
  },
  "language_info": {
   "codemirror_mode": {
    "name": "ipython",
    "version": 3
   },
   "file_extension": ".py",
   "mimetype": "text/x-python",
   "name": "python",
   "nbconvert_exporter": "python",
   "pygments_lexer": "ipython3",
   "version": "3.9.13"
  }
 },
 "nbformat": 4,
 "nbformat_minor": 5
}
